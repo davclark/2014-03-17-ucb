{
 "metadata": {
  "name": ""
 },
 "nbformat": 3,
 "nbformat_minor": 0,
 "worksheets": [
  {
   "cells": [
    {
     "cell_type": "code",
     "collapsed": false,
     "input": [
      "%matplotlib inline"
     ],
     "language": "python",
     "metadata": {},
     "outputs": [],
     "prompt_number": 1
    },
    {
     "cell_type": "code",
     "collapsed": false,
     "input": [
      "import matplotlib.pyplot as plt\n",
      "import numpy as np\n",
      "import pandas as pd"
     ],
     "language": "python",
     "metadata": {},
     "outputs": [],
     "prompt_number": 2
    },
    {
     "cell_type": "code",
     "collapsed": false,
     "input": [
      "ls"
     ],
     "language": "python",
     "metadata": {},
     "outputs": [
      {
       "output_type": "stream",
       "stream": "stdout",
       "text": [
        "Plotting and IO Practice.ipynb  oak_weather_2013.csv\r\n",
        "Untitled0.ipynb\r\n"
       ]
      }
     ],
     "prompt_number": 3
    },
    {
     "cell_type": "code",
     "collapsed": false,
     "input": [
      "!head oak_weather_2013.csv"
     ],
     "language": "python",
     "metadata": {},
     "outputs": [
      {
       "output_type": "stream",
       "stream": "stdout",
       "text": [
        "PST,Max TemperatureF,Mean TemperatureF,Min TemperatureF,Max Dew PointF,MeanDew PointF,Min DewpointF,Max Humidity, Mean Humidity, Min Humidity, Max Sea Level PressureIn, Mean Sea Level PressureIn, Min Sea Level PressureIn, Max VisibilityMiles, Mean VisibilityMiles, Min VisibilityMiles, Max Wind SpeedMPH, Mean Wind SpeedMPH, Max Gust SpeedMPH,PrecipitationIn, CloudCover, Events, WindDirDegrees\r\n",
        "2013-1-1,56,47,38,38,35,33,86,66,46,30.29,30.26,30.23,10,10,10,23,9,29,0.00,3,,59\r\n",
        "2013-1-2,53,45,36,41,36,30,85,70,54,30.26,30.21,30.16,10,10,10,9,3,12,0.00,0,,158\r\n",
        "2013-1-3,55,45,34,45,39,34,92,74,55,30.29,30.24,30.19,10,10,10,9,3,25,0.00,2,,336\r\n",
        "2013-1-4,54,46,37,42,38,34,92,76,59,30.31,30.25,30.20,10,10,9,7,2,8,0.00,2,,210\r\n",
        "2013-1-5,56,47,38,51,45,37,100,86,72,30.28,30.16,30.09,10,8,2,14,3,26,0.15,7,Rain,119\r\n",
        "2013-1-6,53,47,40,48,44,39,100,86,71,30.21,30.16,30.08,10,10,8,18,5,26,0.02,5,Rain,18\r\n",
        "2013-1-7,57,46,35,50,43,36,100,86,72,30.29,30.22,30.18,10,8,0,8,1,24,0.00,4,Fog,137\r\n",
        "2013-1-8,59,50,41,50,46,41,100,84,67,30.26,30.20,30.15,10,8,1,9,3,12,0.00,1,Fog,286\r\n",
        "2013-1-9,54,48,42,54,46,38,100,81,61,30.16,30.09,30.02,10,6,1,25,8,31,T,6,Rain,225\r\n"
       ]
      }
     ],
     "prompt_number": 4
    },
    {
     "cell_type": "code",
     "collapsed": false,
     "input": [
      "!wc -l oak_weather_2013.csv"
     ],
     "language": "python",
     "metadata": {},
     "outputs": [
      {
       "output_type": "stream",
       "stream": "stdout",
       "text": [
        "     366 oak_weather_2013.csv\r\n"
       ]
      }
     ],
     "prompt_number": 5
    },
    {
     "cell_type": "code",
     "collapsed": false,
     "input": [
      "df = pd.read_csv('oak_weather_2013.csv')"
     ],
     "language": "python",
     "metadata": {},
     "outputs": [],
     "prompt_number": 6
    },
    {
     "cell_type": "code",
     "collapsed": false,
     "input": [
      "df.head()"
     ],
     "language": "python",
     "metadata": {},
     "outputs": [
      {
       "html": [
        "<div style=\"max-height:1000px;max-width:1500px;overflow:auto;\">\n",
        "<table border=\"1\" class=\"dataframe\">\n",
        "  <thead>\n",
        "    <tr style=\"text-align: right;\">\n",
        "      <th></th>\n",
        "      <th>PST</th>\n",
        "      <th>Max TemperatureF</th>\n",
        "      <th>Mean TemperatureF</th>\n",
        "      <th>Min TemperatureF</th>\n",
        "      <th>Max Dew PointF</th>\n",
        "      <th>MeanDew PointF</th>\n",
        "      <th>Min DewpointF</th>\n",
        "      <th>Max Humidity</th>\n",
        "      <th> Mean Humidity</th>\n",
        "      <th> Min Humidity</th>\n",
        "      <th> Max Sea Level PressureIn</th>\n",
        "      <th> Mean Sea Level PressureIn</th>\n",
        "      <th> Min Sea Level PressureIn</th>\n",
        "      <th> Max VisibilityMiles</th>\n",
        "      <th> Mean VisibilityMiles</th>\n",
        "      <th> Min VisibilityMiles</th>\n",
        "      <th> Max Wind SpeedMPH</th>\n",
        "      <th> Mean Wind SpeedMPH</th>\n",
        "      <th> Max Gust SpeedMPH</th>\n",
        "      <th>PrecipitationIn</th>\n",
        "      <th></th>\n",
        "    </tr>\n",
        "  </thead>\n",
        "  <tbody>\n",
        "    <tr>\n",
        "      <th>0</th>\n",
        "      <td> 2013-1-1</td>\n",
        "      <td> 56</td>\n",
        "      <td> 47</td>\n",
        "      <td> 38</td>\n",
        "      <td> 38</td>\n",
        "      <td> 35</td>\n",
        "      <td> 33</td>\n",
        "      <td>  86</td>\n",
        "      <td> 66</td>\n",
        "      <td> 46</td>\n",
        "      <td> 30.29</td>\n",
        "      <td> 30.26</td>\n",
        "      <td> 30.23</td>\n",
        "      <td> 10</td>\n",
        "      <td> 10</td>\n",
        "      <td> 10</td>\n",
        "      <td> 23</td>\n",
        "      <td> 9</td>\n",
        "      <td> 29</td>\n",
        "      <td> 0.00</td>\n",
        "      <td>...</td>\n",
        "    </tr>\n",
        "    <tr>\n",
        "      <th>1</th>\n",
        "      <td> 2013-1-2</td>\n",
        "      <td> 53</td>\n",
        "      <td> 45</td>\n",
        "      <td> 36</td>\n",
        "      <td> 41</td>\n",
        "      <td> 36</td>\n",
        "      <td> 30</td>\n",
        "      <td>  85</td>\n",
        "      <td> 70</td>\n",
        "      <td> 54</td>\n",
        "      <td> 30.26</td>\n",
        "      <td> 30.21</td>\n",
        "      <td> 30.16</td>\n",
        "      <td> 10</td>\n",
        "      <td> 10</td>\n",
        "      <td> 10</td>\n",
        "      <td>  9</td>\n",
        "      <td> 3</td>\n",
        "      <td> 12</td>\n",
        "      <td> 0.00</td>\n",
        "      <td>...</td>\n",
        "    </tr>\n",
        "    <tr>\n",
        "      <th>2</th>\n",
        "      <td> 2013-1-3</td>\n",
        "      <td> 55</td>\n",
        "      <td> 45</td>\n",
        "      <td> 34</td>\n",
        "      <td> 45</td>\n",
        "      <td> 39</td>\n",
        "      <td> 34</td>\n",
        "      <td>  92</td>\n",
        "      <td> 74</td>\n",
        "      <td> 55</td>\n",
        "      <td> 30.29</td>\n",
        "      <td> 30.24</td>\n",
        "      <td> 30.19</td>\n",
        "      <td> 10</td>\n",
        "      <td> 10</td>\n",
        "      <td> 10</td>\n",
        "      <td>  9</td>\n",
        "      <td> 3</td>\n",
        "      <td> 25</td>\n",
        "      <td> 0.00</td>\n",
        "      <td>...</td>\n",
        "    </tr>\n",
        "    <tr>\n",
        "      <th>3</th>\n",
        "      <td> 2013-1-4</td>\n",
        "      <td> 54</td>\n",
        "      <td> 46</td>\n",
        "      <td> 37</td>\n",
        "      <td> 42</td>\n",
        "      <td> 38</td>\n",
        "      <td> 34</td>\n",
        "      <td>  92</td>\n",
        "      <td> 76</td>\n",
        "      <td> 59</td>\n",
        "      <td> 30.31</td>\n",
        "      <td> 30.25</td>\n",
        "      <td> 30.20</td>\n",
        "      <td> 10</td>\n",
        "      <td> 10</td>\n",
        "      <td>  9</td>\n",
        "      <td>  7</td>\n",
        "      <td> 2</td>\n",
        "      <td>  8</td>\n",
        "      <td> 0.00</td>\n",
        "      <td>...</td>\n",
        "    </tr>\n",
        "    <tr>\n",
        "      <th>4</th>\n",
        "      <td> 2013-1-5</td>\n",
        "      <td> 56</td>\n",
        "      <td> 47</td>\n",
        "      <td> 38</td>\n",
        "      <td> 51</td>\n",
        "      <td> 45</td>\n",
        "      <td> 37</td>\n",
        "      <td> 100</td>\n",
        "      <td> 86</td>\n",
        "      <td> 72</td>\n",
        "      <td> 30.28</td>\n",
        "      <td> 30.16</td>\n",
        "      <td> 30.09</td>\n",
        "      <td> 10</td>\n",
        "      <td>  8</td>\n",
        "      <td>  2</td>\n",
        "      <td> 14</td>\n",
        "      <td> 3</td>\n",
        "      <td> 26</td>\n",
        "      <td> 0.15</td>\n",
        "      <td>...</td>\n",
        "    </tr>\n",
        "  </tbody>\n",
        "</table>\n",
        "<p>5 rows \u00d7 23 columns</p>\n",
        "</div>"
       ],
       "metadata": {},
       "output_type": "pyout",
       "prompt_number": 8,
       "text": [
        "        PST  Max TemperatureF  Mean TemperatureF  Min TemperatureF  \\\n",
        "0  2013-1-1                56                 47                38   \n",
        "1  2013-1-2                53                 45                36   \n",
        "2  2013-1-3                55                 45                34   \n",
        "3  2013-1-4                54                 46                37   \n",
        "4  2013-1-5                56                 47                38   \n",
        "\n",
        "   Max Dew PointF  MeanDew PointF  Min DewpointF  Max Humidity  \\\n",
        "0              38              35             33            86   \n",
        "1              41              36             30            85   \n",
        "2              45              39             34            92   \n",
        "3              42              38             34            92   \n",
        "4              51              45             37           100   \n",
        "\n",
        "    Mean Humidity   Min Humidity   Max Sea Level PressureIn  \\\n",
        "0              66             46                      30.29   \n",
        "1              70             54                      30.26   \n",
        "2              74             55                      30.29   \n",
        "3              76             59                      30.31   \n",
        "4              86             72                      30.28   \n",
        "\n",
        "    Mean Sea Level PressureIn   Min Sea Level PressureIn  \\\n",
        "0                       30.26                      30.23   \n",
        "1                       30.21                      30.16   \n",
        "2                       30.24                      30.19   \n",
        "3                       30.25                      30.20   \n",
        "4                       30.16                      30.09   \n",
        "\n",
        "    Max VisibilityMiles   Mean VisibilityMiles   Min VisibilityMiles  \\\n",
        "0                    10                     10                    10   \n",
        "1                    10                     10                    10   \n",
        "2                    10                     10                    10   \n",
        "3                    10                     10                     9   \n",
        "4                    10                      8                     2   \n",
        "\n",
        "    Max Wind SpeedMPH   Mean Wind SpeedMPH   Max Gust SpeedMPH  \\\n",
        "0                  23                    9                  29   \n",
        "1                   9                    3                  12   \n",
        "2                   9                    3                  25   \n",
        "3                   7                    2                   8   \n",
        "4                  14                    3                  26   \n",
        "\n",
        "  PrecipitationIn      \n",
        "0            0.00 ...  \n",
        "1            0.00 ...  \n",
        "2            0.00 ...  \n",
        "3            0.00 ...  \n",
        "4            0.15 ...  \n",
        "\n",
        "[5 rows x 23 columns]"
       ]
      }
     ],
     "prompt_number": 8
    },
    {
     "cell_type": "code",
     "collapsed": false,
     "input": [
      "df.describe()"
     ],
     "language": "python",
     "metadata": {},
     "outputs": [
      {
       "html": [
        "<div style=\"max-height:1000px;max-width:1500px;overflow:auto;\">\n",
        "<table border=\"1\" class=\"dataframe\">\n",
        "  <thead>\n",
        "    <tr style=\"text-align: right;\">\n",
        "      <th></th>\n",
        "      <th>Max TemperatureF</th>\n",
        "      <th>Mean TemperatureF</th>\n",
        "      <th>Min TemperatureF</th>\n",
        "      <th>Max Dew PointF</th>\n",
        "      <th>MeanDew PointF</th>\n",
        "      <th>Min DewpointF</th>\n",
        "      <th>Max Humidity</th>\n",
        "      <th> Mean Humidity</th>\n",
        "      <th> Min Humidity</th>\n",
        "      <th> Max Sea Level PressureIn</th>\n",
        "      <th> Mean Sea Level PressureIn</th>\n",
        "      <th> Min Sea Level PressureIn</th>\n",
        "      <th> Max VisibilityMiles</th>\n",
        "      <th> Mean VisibilityMiles</th>\n",
        "      <th> Min VisibilityMiles</th>\n",
        "      <th> Max Wind SpeedMPH</th>\n",
        "      <th> Mean Wind SpeedMPH</th>\n",
        "      <th> Max Gust SpeedMPH</th>\n",
        "      <th> CloudCover</th>\n",
        "      <th> WindDirDegrees</th>\n",
        "    </tr>\n",
        "  </thead>\n",
        "  <tbody>\n",
        "    <tr>\n",
        "      <th>count</th>\n",
        "      <td> 365.000000</td>\n",
        "      <td> 365.000000</td>\n",
        "      <td> 365.000000</td>\n",
        "      <td> 365.000000</td>\n",
        "      <td> 365.000000</td>\n",
        "      <td> 365.000000</td>\n",
        "      <td> 365.000000</td>\n",
        "      <td> 365.000000</td>\n",
        "      <td> 365.000000</td>\n",
        "      <td> 365.000000</td>\n",
        "      <td> 365.000000</td>\n",
        "      <td> 365.000000</td>\n",
        "      <td> 365.000000</td>\n",
        "      <td> 365.000000</td>\n",
        "      <td> 365.000000</td>\n",
        "      <td> 365.000000</td>\n",
        "      <td> 365.000000</td>\n",
        "      <td> 360.000000</td>\n",
        "      <td> 365.000000</td>\n",
        "      <td> 365.000000</td>\n",
        "    </tr>\n",
        "    <tr>\n",
        "      <th>mean</th>\n",
        "      <td>  67.652055</td>\n",
        "      <td>  58.632877</td>\n",
        "      <td>  49.093151</td>\n",
        "      <td>  54.550685</td>\n",
        "      <td>  49.682192</td>\n",
        "      <td>  44.495890</td>\n",
        "      <td>  95.123288</td>\n",
        "      <td>  74.235616</td>\n",
        "      <td>  52.832877</td>\n",
        "      <td>  30.100356</td>\n",
        "      <td>  30.046110</td>\n",
        "      <td>  29.990849</td>\n",
        "      <td>   9.997260</td>\n",
        "      <td>   9.600000</td>\n",
        "      <td>   8.057534</td>\n",
        "      <td>  17.909589</td>\n",
        "      <td>   7.482192</td>\n",
        "      <td>  24.105556</td>\n",
        "      <td>   3.263014</td>\n",
        "      <td> 265.967123</td>\n",
        "    </tr>\n",
        "    <tr>\n",
        "      <th>std</th>\n",
        "      <td>   7.846538</td>\n",
        "      <td>   7.330278</td>\n",
        "      <td>   8.110642</td>\n",
        "      <td>   7.874411</td>\n",
        "      <td>   9.289770</td>\n",
        "      <td>  11.200869</td>\n",
        "      <td>   9.743334</td>\n",
        "      <td>  11.942598</td>\n",
        "      <td>  17.013473</td>\n",
        "      <td>   0.141860</td>\n",
        "      <td>   0.140116</td>\n",
        "      <td>   0.142525</td>\n",
        "      <td>   0.052342</td>\n",
        "      <td>   0.951575</td>\n",
        "      <td>   2.713313</td>\n",
        "      <td>   5.645677</td>\n",
        "      <td>   3.322060</td>\n",
        "      <td>   7.785063</td>\n",
        "      <td>   2.268241</td>\n",
        "      <td>  57.551305</td>\n",
        "    </tr>\n",
        "    <tr>\n",
        "      <th>min</th>\n",
        "      <td>  48.000000</td>\n",
        "      <td>  39.000000</td>\n",
        "      <td>  28.000000</td>\n",
        "      <td>  23.000000</td>\n",
        "      <td>  14.000000</td>\n",
        "      <td>   7.000000</td>\n",
        "      <td>  24.000000</td>\n",
        "      <td>  17.000000</td>\n",
        "      <td>   9.000000</td>\n",
        "      <td>  29.770000</td>\n",
        "      <td>  29.680000</td>\n",
        "      <td>  29.590000</td>\n",
        "      <td>   9.000000</td>\n",
        "      <td>   5.000000</td>\n",
        "      <td>   0.000000</td>\n",
        "      <td>   7.000000</td>\n",
        "      <td>   1.000000</td>\n",
        "      <td>   7.000000</td>\n",
        "      <td>   0.000000</td>\n",
        "      <td>  12.000000</td>\n",
        "    </tr>\n",
        "    <tr>\n",
        "      <th>25%</th>\n",
        "      <td>  62.000000</td>\n",
        "      <td>  54.000000</td>\n",
        "      <td>  43.000000</td>\n",
        "      <td>  51.000000</td>\n",
        "      <td>  44.000000</td>\n",
        "      <td>  38.000000</td>\n",
        "      <td>  93.000000</td>\n",
        "      <td>  68.000000</td>\n",
        "      <td>  42.000000</td>\n",
        "      <td>  30.000000</td>\n",
        "      <td>  29.950000</td>\n",
        "      <td>  29.890000</td>\n",
        "      <td>  10.000000</td>\n",
        "      <td>  10.000000</td>\n",
        "      <td>   7.000000</td>\n",
        "      <td>  14.000000</td>\n",
        "      <td>   5.000000</td>\n",
        "      <td>  20.000000</td>\n",
        "      <td>   1.000000</td>\n",
        "      <td> 260.000000</td>\n",
        "    </tr>\n",
        "    <tr>\n",
        "      <th>50%</th>\n",
        "      <td>  68.000000</td>\n",
        "      <td>  60.000000</td>\n",
        "      <td>  51.000000</td>\n",
        "      <td>  56.000000</td>\n",
        "      <td>  51.000000</td>\n",
        "      <td>  46.000000</td>\n",
        "      <td> 100.000000</td>\n",
        "      <td>  77.000000</td>\n",
        "      <td>  55.000000</td>\n",
        "      <td>  30.090000</td>\n",
        "      <td>  30.040000</td>\n",
        "      <td>  29.980000</td>\n",
        "      <td>  10.000000</td>\n",
        "      <td>  10.000000</td>\n",
        "      <td>  10.000000</td>\n",
        "      <td>  18.000000</td>\n",
        "      <td>   7.000000</td>\n",
        "      <td>  24.000000</td>\n",
        "      <td>   3.000000</td>\n",
        "      <td> 278.000000</td>\n",
        "    </tr>\n",
        "    <tr>\n",
        "      <th>75%</th>\n",
        "      <td>  72.000000</td>\n",
        "      <td>  64.000000</td>\n",
        "      <td>  55.000000</td>\n",
        "      <td>  60.000000</td>\n",
        "      <td>  57.000000</td>\n",
        "      <td>  54.000000</td>\n",
        "      <td> 100.000000</td>\n",
        "      <td>  83.000000</td>\n",
        "      <td>  66.000000</td>\n",
        "      <td>  30.200000</td>\n",
        "      <td>  30.140000</td>\n",
        "      <td>  30.090000</td>\n",
        "      <td>  10.000000</td>\n",
        "      <td>  10.000000</td>\n",
        "      <td>  10.000000</td>\n",
        "      <td>  21.000000</td>\n",
        "      <td>  10.000000</td>\n",
        "      <td>  29.000000</td>\n",
        "      <td>   5.000000</td>\n",
        "      <td> 299.000000</td>\n",
        "    </tr>\n",
        "    <tr>\n",
        "      <th>max</th>\n",
        "      <td>  92.000000</td>\n",
        "      <td>  74.000000</td>\n",
        "      <td>  64.000000</td>\n",
        "      <td>  70.000000</td>\n",
        "      <td>  65.000000</td>\n",
        "      <td>  63.000000</td>\n",
        "      <td> 100.000000</td>\n",
        "      <td>  97.000000</td>\n",
        "      <td>  93.000000</td>\n",
        "      <td>  30.500000</td>\n",
        "      <td>  30.450000</td>\n",
        "      <td>  30.420000</td>\n",
        "      <td>  10.000000</td>\n",
        "      <td>  10.000000</td>\n",
        "      <td>  10.000000</td>\n",
        "      <td>  44.000000</td>\n",
        "      <td>  20.000000</td>\n",
        "      <td>  66.000000</td>\n",
        "      <td>   8.000000</td>\n",
        "      <td> 355.000000</td>\n",
        "    </tr>\n",
        "  </tbody>\n",
        "</table>\n",
        "<p>8 rows \u00d7 20 columns</p>\n",
        "</div>"
       ],
       "metadata": {},
       "output_type": "pyout",
       "prompt_number": 9,
       "text": [
        "       Max TemperatureF  Mean TemperatureF  Min TemperatureF  Max Dew PointF  \\\n",
        "count        365.000000         365.000000        365.000000      365.000000   \n",
        "mean          67.652055          58.632877         49.093151       54.550685   \n",
        "std            7.846538           7.330278          8.110642        7.874411   \n",
        "min           48.000000          39.000000         28.000000       23.000000   \n",
        "25%           62.000000          54.000000         43.000000       51.000000   \n",
        "50%           68.000000          60.000000         51.000000       56.000000   \n",
        "75%           72.000000          64.000000         55.000000       60.000000   \n",
        "max           92.000000          74.000000         64.000000       70.000000   \n",
        "\n",
        "       MeanDew PointF  Min DewpointF  Max Humidity   Mean Humidity  \\\n",
        "count      365.000000     365.000000    365.000000      365.000000   \n",
        "mean        49.682192      44.495890     95.123288       74.235616   \n",
        "std          9.289770      11.200869      9.743334       11.942598   \n",
        "min         14.000000       7.000000     24.000000       17.000000   \n",
        "25%         44.000000      38.000000     93.000000       68.000000   \n",
        "50%         51.000000      46.000000    100.000000       77.000000   \n",
        "75%         57.000000      54.000000    100.000000       83.000000   \n",
        "max         65.000000      63.000000    100.000000       97.000000   \n",
        "\n",
        "        Min Humidity   Max Sea Level PressureIn   Mean Sea Level PressureIn  \\\n",
        "count     365.000000                 365.000000                  365.000000   \n",
        "mean       52.832877                  30.100356                   30.046110   \n",
        "std        17.013473                   0.141860                    0.140116   \n",
        "min         9.000000                  29.770000                   29.680000   \n",
        "25%        42.000000                  30.000000                   29.950000   \n",
        "50%        55.000000                  30.090000                   30.040000   \n",
        "75%        66.000000                  30.200000                   30.140000   \n",
        "max        93.000000                  30.500000                   30.450000   \n",
        "\n",
        "        Min Sea Level PressureIn   Max VisibilityMiles   Mean VisibilityMiles  \\\n",
        "count                 365.000000            365.000000             365.000000   \n",
        "mean                   29.990849              9.997260               9.600000   \n",
        "std                     0.142525              0.052342               0.951575   \n",
        "min                    29.590000              9.000000               5.000000   \n",
        "25%                    29.890000             10.000000              10.000000   \n",
        "50%                    29.980000             10.000000              10.000000   \n",
        "75%                    30.090000             10.000000              10.000000   \n",
        "max                    30.420000             10.000000              10.000000   \n",
        "\n",
        "        Min VisibilityMiles   Max Wind SpeedMPH   Mean Wind SpeedMPH  \\\n",
        "count            365.000000          365.000000           365.000000   \n",
        "mean               8.057534           17.909589             7.482192   \n",
        "std                2.713313            5.645677             3.322060   \n",
        "min                0.000000            7.000000             1.000000   \n",
        "25%                7.000000           14.000000             5.000000   \n",
        "50%               10.000000           18.000000             7.000000   \n",
        "75%               10.000000           21.000000            10.000000   \n",
        "max               10.000000           44.000000            20.000000   \n",
        "\n",
        "        Max Gust SpeedMPH   CloudCover   WindDirDegrees  \n",
        "count          360.000000   365.000000       365.000000  \n",
        "mean            24.105556     3.263014       265.967123  \n",
        "std              7.785063     2.268241        57.551305  \n",
        "min              7.000000     0.000000        12.000000  \n",
        "25%             20.000000     1.000000       260.000000  \n",
        "50%             24.000000     3.000000       278.000000  \n",
        "75%             29.000000     5.000000       299.000000  \n",
        "max             66.000000     8.000000       355.000000  \n",
        "\n",
        "[8 rows x 20 columns]"
       ]
      }
     ],
     "prompt_number": 9
    },
    {
     "cell_type": "code",
     "collapsed": false,
     "input": [
      "df.columns"
     ],
     "language": "python",
     "metadata": {},
     "outputs": [
      {
       "metadata": {},
       "output_type": "pyout",
       "prompt_number": 10,
       "text": [
        "Index([u'PST', u'Max TemperatureF', u'Mean TemperatureF', u'Min TemperatureF', u'Max Dew PointF', u'MeanDew PointF', u'Min DewpointF', u'Max Humidity', u' Mean Humidity', u' Min Humidity', u' Max Sea Level PressureIn', u' Mean Sea Level PressureIn', u' Min Sea Level PressureIn', u' Max VisibilityMiles', u' Mean VisibilityMiles', u' Min VisibilityMiles', u' Max Wind SpeedMPH', u' Mean Wind SpeedMPH', u' Max Gust SpeedMPH', u'PrecipitationIn', u' CloudCover', u' Events', u' WindDirDegrees'], dtype='object')"
       ]
      }
     ],
     "prompt_number": 10
    },
    {
     "cell_type": "code",
     "collapsed": false,
     "input": [
      "df['PST']"
     ],
     "language": "python",
     "metadata": {},
     "outputs": [
      {
       "metadata": {},
       "output_type": "pyout",
       "prompt_number": 11,
       "text": [
        "0      2013-1-1\n",
        "1      2013-1-2\n",
        "2      2013-1-3\n",
        "3      2013-1-4\n",
        "4      2013-1-5\n",
        "5      2013-1-6\n",
        "6      2013-1-7\n",
        "7      2013-1-8\n",
        "8      2013-1-9\n",
        "9     2013-1-10\n",
        "10    2013-1-11\n",
        "11    2013-1-12\n",
        "12    2013-1-13\n",
        "13    2013-1-14\n",
        "14    2013-1-15\n",
        "...\n",
        "350    2013-12-17\n",
        "351    2013-12-18\n",
        "352    2013-12-19\n",
        "353    2013-12-20\n",
        "354    2013-12-21\n",
        "355    2013-12-22\n",
        "356    2013-12-23\n",
        "357    2013-12-24\n",
        "358    2013-12-25\n",
        "359    2013-12-26\n",
        "360    2013-12-27\n",
        "361    2013-12-28\n",
        "362    2013-12-29\n",
        "363    2013-12-30\n",
        "364    2013-12-31\n",
        "Name: PST, Length: 365, dtype: object"
       ]
      }
     ],
     "prompt_number": 11
    },
    {
     "cell_type": "code",
     "collapsed": false,
     "input": [
      "df = pd.read_csv('oak_weather_2013.csv', parse_dates=[0])"
     ],
     "language": "python",
     "metadata": {},
     "outputs": [],
     "prompt_number": 12
    },
    {
     "cell_type": "code",
     "collapsed": false,
     "input": [
      "df['PST']"
     ],
     "language": "python",
     "metadata": {},
     "outputs": [
      {
       "metadata": {},
       "output_type": "pyout",
       "prompt_number": 13,
       "text": [
        "0    2013-01-01\n",
        "1    2013-01-02\n",
        "2    2013-01-03\n",
        "3    2013-01-04\n",
        "4    2013-01-05\n",
        "5    2013-01-06\n",
        "6    2013-01-07\n",
        "7    2013-01-08\n",
        "8    2013-01-09\n",
        "9    2013-01-10\n",
        "10   2013-01-11\n",
        "11   2013-01-12\n",
        "12   2013-01-13\n",
        "13   2013-01-14\n",
        "14   2013-01-15\n",
        "...\n",
        "350   2013-12-17\n",
        "351   2013-12-18\n",
        "352   2013-12-19\n",
        "353   2013-12-20\n",
        "354   2013-12-21\n",
        "355   2013-12-22\n",
        "356   2013-12-23\n",
        "357   2013-12-24\n",
        "358   2013-12-25\n",
        "359   2013-12-26\n",
        "360   2013-12-27\n",
        "361   2013-12-28\n",
        "362   2013-12-29\n",
        "363   2013-12-30\n",
        "364   2013-12-31\n",
        "Name: PST, Length: 365, dtype: datetime64[ns]"
       ]
      }
     ],
     "prompt_number": 13
    },
    {
     "cell_type": "code",
     "collapsed": false,
     "input": [
      "plt.plot(df['Mean TemperatureF'])"
     ],
     "language": "python",
     "metadata": {},
     "outputs": [
      {
       "metadata": {},
       "output_type": "pyout",
       "prompt_number": 14,
       "text": [
        "[<matplotlib.lines.Line2D at 0x1068ed2d0>]"
       ]
      },
      {
       "metadata": {},
       "output_type": "display_data",
       "png": "[encoded data removed]",
       "text": [
        "<matplotlib.figure.Figure at 0x1068bf0d0>"
       ]
      }
     ],
     "prompt_number": 14
    },
    {
     "cell_type": "code",
     "collapsed": false,
     "input": [
      "df['Mean TemperatureF'].plot()"
     ],
     "language": "python",
     "metadata": {},
     "outputs": [
      {
       "metadata": {},
       "output_type": "pyout",
       "prompt_number": 15,
       "text": [
        "<matplotlib.axes.AxesSubplot at 0x1068fa910>"
       ]
      },
      {
       "metadata": {},
       "output_type": "display_data",
       "png": "[encoded data removed]",
       "text": [
        "<matplotlib.figure.Figure at 0x1068fdd90>"
       ]
      }
     ],
     "prompt_number": 15
    },
    {
     "cell_type": "code",
     "collapsed": false,
     "input": [
      "df.index"
     ],
     "language": "python",
     "metadata": {},
     "outputs": [
      {
       "metadata": {},
       "output_type": "pyout",
       "prompt_number": 16,
       "text": [
        "Int64Index([0, 1, 2, 3, 4, 5, 6, 7, 8, 9, 10, 11, 12, 13, 14, 15, 16, 17, 18, 19, 20, 21, 22, 23, 24, 25, 26, 27, 28, 29, 30, 31, 32, 33, 34, 35, 36, 37, 38, 39, 40, 41, 42, 43, 44, 45, 46, 47, 48, 49, 50, 51, 52, 53, 54, 55, 56, 57, 58, 59, 60, 61, 62, 63, 64, 65, 66, 67, 68, 69, 70, 71, 72, 73, 74, 75, 76, 77, 78, 79, 80, 81, 82, 83, 84, 85, 86, 87, 88, 89, 90, 91, 92, 93, 94, 95, 96, 97, 98, 99, ...], dtype='int64')"
       ]
      }
     ],
     "prompt_number": 16
    },
    {
     "cell_type": "code",
     "collapsed": false,
     "input": [
      "df2 = df.set_index(df['PST'], drop=False)"
     ],
     "language": "python",
     "metadata": {},
     "outputs": [],
     "prompt_number": 17
    },
    {
     "cell_type": "code",
     "collapsed": false,
     "input": [
      "df2['Mean TemperatureF'].plot()"
     ],
     "language": "python",
     "metadata": {},
     "outputs": [
      {
       "metadata": {},
       "output_type": "pyout",
       "prompt_number": 20,
       "text": [
        "<matplotlib.axes.AxesSubplot at 0x1068dbe50>"
       ]
      },
      {
       "metadata": {},
       "output_type": "display_data",
       "png": "[encoded data removed]",
       "text": [
        "<matplotlib.figure.Figure at 0x106daa8d0>"
       ]
      }
     ],
     "prompt_number": 20
    },
    {
     "cell_type": "code",
     "collapsed": false,
     "input": [
      "mt = df2['Mean TemperatureF']"
     ],
     "language": "python",
     "metadata": {},
     "outputs": [],
     "prompt_number": 21
    },
    {
     "cell_type": "code",
     "collapsed": false,
     "input": [
      "mt.plot(label='Temp', kind='line', legend=True, marker='o')"
     ],
     "language": "python",
     "metadata": {},
     "outputs": [
      {
       "metadata": {},
       "output_type": "pyout",
       "prompt_number": 23,
       "text": [
        "<matplotlib.axes.AxesSubplot at 0x106934410>"
       ]
      },
      {
       "metadata": {},
       "output_type": "display_data",
       "png": "[encoded data removed]",
       "text": [
        "<matplotlib.figure.Figure at 0x106da0310>"
       ]
      }
     ],
     "prompt_number": 23
    },
    {
     "cell_type": "code",
     "collapsed": false,
     "input": [
      "mt.hist(bins=30)"
     ],
     "language": "python",
     "metadata": {},
     "outputs": [
      {
       "metadata": {},
       "output_type": "pyout",
       "prompt_number": 25,
       "text": [
        "<matplotlib.axes.AxesSubplot at 0x107242290>"
       ]
      },
      {
       "metadata": {},
       "output_type": "display_data",
       "png": "[encoded data removed]",
       "text": [
        "<matplotlib.figure.Figure at 0x107204310>"
       ]
      }
     ],
     "prompt_number": 25
    },
    {
     "cell_type": "code",
     "collapsed": false,
     "input": [
      "df2.columns"
     ],
     "language": "python",
     "metadata": {},
     "outputs": [
      {
       "metadata": {},
       "output_type": "pyout",
       "prompt_number": 26,
       "text": [
        "Index([u'PST', u'Max TemperatureF', u'Mean TemperatureF', u'Min TemperatureF', u'Max Dew PointF', u'MeanDew PointF', u'Min DewpointF', u'Max Humidity', u' Mean Humidity', u' Min Humidity', u' Max Sea Level PressureIn', u' Mean Sea Level PressureIn', u' Min Sea Level PressureIn', u' Max VisibilityMiles', u' Mean VisibilityMiles', u' Min VisibilityMiles', u' Max Wind SpeedMPH', u' Mean Wind SpeedMPH', u' Max Gust SpeedMPH', u'PrecipitationIn', u' CloudCover', u' Events', u' WindDirDegrees'], dtype='object')"
       ]
      }
     ],
     "prompt_number": 26
    },
    {
     "cell_type": "code",
     "collapsed": false,
     "input": [
      "df2 = df2.rename(columns={' Mean Humidity': 'MeanHumidity'})"
     ],
     "language": "python",
     "metadata": {},
     "outputs": [],
     "prompt_number": 29
    },
    {
     "cell_type": "code",
     "collapsed": false,
     "input": [
      "df2.columns"
     ],
     "language": "python",
     "metadata": {},
     "outputs": [
      {
       "metadata": {},
       "output_type": "pyout",
       "prompt_number": 30,
       "text": [
        "Index([u'PST', u'Max TemperatureF', u'Mean TemperatureF', u'Min TemperatureF', u'Max Dew PointF', u'MeanDew PointF', u'Min DewpointF', u'Max Humidity', u'MeanHumidity', u' Min Humidity', u' Max Sea Level PressureIn', u' Mean Sea Level PressureIn', u' Min Sea Level PressureIn', u' Max VisibilityMiles', u' Mean VisibilityMiles', u' Min VisibilityMiles', u' Max Wind SpeedMPH', u' Mean Wind SpeedMPH', u' Max Gust SpeedMPH', u'PrecipitationIn', u' CloudCover', u' Events', u' WindDirDegrees'], dtype='object')"
       ]
      }
     ],
     "prompt_number": 30
    },
    {
     "cell_type": "code",
     "collapsed": false,
     "input": [
      "def no_spaces(s):\n",
      "    return s.replace(' ', '')\n",
      "no_spaces('a b c  ')"
     ],
     "language": "python",
     "metadata": {},
     "outputs": [
      {
       "metadata": {},
       "output_type": "pyout",
       "prompt_number": 31,
       "text": [
        "'abc'"
       ]
      }
     ],
     "prompt_number": 31
    },
    {
     "cell_type": "code",
     "collapsed": false,
     "input": [
      "df2 = df2.rename(columns=no_spaces)"
     ],
     "language": "python",
     "metadata": {},
     "outputs": [],
     "prompt_number": 32
    },
    {
     "cell_type": "code",
     "collapsed": false,
     "input": [
      "df2.columns"
     ],
     "language": "python",
     "metadata": {},
     "outputs": [
      {
       "metadata": {},
       "output_type": "pyout",
       "prompt_number": 33,
       "text": [
        "Index([u'PST', u'MaxTemperatureF', u'MeanTemperatureF', u'MinTemperatureF', u'MaxDewPointF', u'MeanDewPointF', u'MinDewpointF', u'MaxHumidity', u'MeanHumidity', u'MinHumidity', u'MaxSeaLevelPressureIn', u'MeanSeaLevelPressureIn', u'MinSeaLevelPressureIn', u'MaxVisibilityMiles', u'MeanVisibilityMiles', u'MinVisibilityMiles', u'MaxWindSpeedMPH', u'MeanWindSpeedMPH', u'MaxGustSpeedMPH', u'PrecipitationIn', u'CloudCover', u'Events', u'WindDirDegrees'], dtype='object')"
       ]
      }
     ],
     "prompt_number": 33
    },
    {
     "cell_type": "code",
     "collapsed": false,
     "input": [
      "plt.scatter(df2.MeanTemperatureF, df2.MeanHumidity, marker='s', color='m')"
     ],
     "language": "python",
     "metadata": {},
     "outputs": [
      {
       "metadata": {},
       "output_type": "pyout",
       "prompt_number": 37,
       "text": [
        "<matplotlib.collections.PathCollection at 0x108078a50>"
       ]
      },
      {
       "metadata": {},
       "output_type": "display_data",
       "png": "[encoded data removed]",
       "text": [
        "<matplotlib.figure.Figure at 0x107cbf910>"
       ]
      }
     ],
     "prompt_number": 37
    },
    {
     "cell_type": "code",
     "collapsed": false,
     "input": [
      "plt.savefig('magenta.pdf')"
     ],
     "language": "python",
     "metadata": {},
     "outputs": [
      {
       "metadata": {},
       "output_type": "display_data",
       "text": [
        "<matplotlib.figure.Figure at 0x108062910>"
       ]
      }
     ],
     "prompt_number": 38
    },
    {
     "cell_type": "code",
     "collapsed": false,
     "input": [
      "ls"
     ],
     "language": "python",
     "metadata": {},
     "outputs": [
      {
       "output_type": "stream",
       "stream": "stdout",
       "text": [
        "Plotting and IO Practice.ipynb  magenta.pdf\r\n",
        "Untitled0.ipynb                 oak_weather_2013.csv\r\n"
       ]
      }
     ],
     "prompt_number": 39
    },
    {
     "cell_type": "code",
     "collapsed": false,
     "input": [
      "!open magenta.pdf"
     ],
     "language": "python",
     "metadata": {},
     "outputs": [],
     "prompt_number": 40
    },
    {
     "cell_type": "code",
     "collapsed": false,
     "input": [
      "fig, ax = plt.subplots()"
     ],
     "language": "python",
     "metadata": {},
     "outputs": [
      {
       "metadata": {},
       "output_type": "display_data",
       "png": "[encoded data removed]",
       "text": [
        "<matplotlib.figure.Figure at 0x1083866d0>"
       ]
      }
     ],
     "prompt_number": 42
    },
    {
     "cell_type": "code",
     "collapsed": false,
     "input": [
      "ax.scatter(df2.MeanTemperatureF, df2.MeanHumidity, marker='s', color='m')"
     ],
     "language": "python",
     "metadata": {},
     "outputs": [
      {
       "metadata": {},
       "output_type": "pyout",
       "prompt_number": 43,
       "text": [
        "<matplotlib.collections.PathCollection at 0x1083f1110>"
       ]
      }
     ],
     "prompt_number": 43
    },
    {
     "cell_type": "code",
     "collapsed": false,
     "input": [
      "fig"
     ],
     "language": "python",
     "metadata": {},
     "outputs": [
      {
       "metadata": {},
       "output_type": "pyout",
       "png": "[encoded data removed]",
       "prompt_number": 44,
       "text": [
        "<matplotlib.figure.Figure at 0x1083866d0>"
       ]
      }
     ],
     "prompt_number": 44
    },
    {
     "cell_type": "code",
     "collapsed": false,
     "input": [
      "fig.savefig('magenta.pdf')"
     ],
     "language": "python",
     "metadata": {},
     "outputs": [],
     "prompt_number": 45
    },
    {
     "cell_type": "code",
     "collapsed": false,
     "input": [
      "!open magenta.pdf"
     ],
     "language": "python",
     "metadata": {},
     "outputs": [],
     "prompt_number": 46
    },
    {
     "cell_type": "code",
     "collapsed": false,
     "input": [
      "df.PrecipitationIn"
     ],
     "language": "python",
     "metadata": {},
     "outputs": [
      {
       "metadata": {},
       "output_type": "pyout",
       "prompt_number": 47,
       "text": [
        "0     0.00\n",
        "1     0.00\n",
        "2     0.00\n",
        "3     0.00\n",
        "4     0.15\n",
        "5     0.02\n",
        "6     0.00\n",
        "7     0.00\n",
        "8        T\n",
        "9     0.00\n",
        "10    0.00\n",
        "11    0.00\n",
        "12    0.00\n",
        "13    0.00\n",
        "14    0.00\n",
        "...\n",
        "350    0.00\n",
        "351    0.00\n",
        "352    0.00\n",
        "353    0.00\n",
        "354    0.00\n",
        "355    0.00\n",
        "356    0.00\n",
        "357    0.00\n",
        "358    0.00\n",
        "359    0.00\n",
        "360    0.00\n",
        "361    0.00\n",
        "362    0.00\n",
        "363    0.00\n",
        "364    0.00\n",
        "Name: PrecipitationIn, Length: 365, dtype: object"
       ]
      }
     ],
     "prompt_number": 47
    },
    {
     "cell_type": "code",
     "collapsed": false,
     "input": [
      "df2.PrecipitationIn = df2.PrecipitationIn.replace(to_replace='T', value=0)"
     ],
     "language": "python",
     "metadata": {},
     "outputs": [],
     "prompt_number": 50
    },
    {
     "cell_type": "code",
     "collapsed": false,
     "input": [
      "df2.PrecipitationIn = df2.PrecipitationIn.astype('float')"
     ],
     "language": "python",
     "metadata": {},
     "outputs": [],
     "prompt_number": 54
    },
    {
     "cell_type": "code",
     "collapsed": false,
     "input": [
      "df2.PrecipitationIn.plot()"
     ],
     "language": "python",
     "metadata": {},
     "outputs": [
      {
       "metadata": {},
       "output_type": "pyout",
       "prompt_number": 55,
       "text": [
        "<matplotlib.axes.AxesSubplot at 0x1083dc910>"
       ]
      },
      {
       "metadata": {},
       "output_type": "display_data",
       "png": "[encoded data removed]",
       "text": [
        "<matplotlib.figure.Figure at 0x1083dc1d0>"
       ]
      }
     ],
     "prompt_number": 55
    },
    {
     "cell_type": "code",
     "collapsed": false,
     "input": [
      "df2.PrecipitationIn.sum()"
     ],
     "language": "python",
     "metadata": {},
     "outputs": [
      {
       "metadata": {},
       "output_type": "pyout",
       "prompt_number": 56,
       "text": [
        "4.8999999999999995"
       ]
      }
     ],
     "prompt_number": 56
    },
    {
     "cell_type": "code",
     "collapsed": false,
     "input": [
      "df2.PrecipitationIn.resample('M').plot()"
     ],
     "language": "python",
     "metadata": {},
     "outputs": [
      {
       "metadata": {},
       "output_type": "pyout",
       "prompt_number": 58,
       "text": [
        "<matplotlib.axes.AxesSubplot at 0x108730610>"
       ]
      },
      {
       "metadata": {},
       "output_type": "display_data",
       "png": "[encoded data removed]",
       "text": [
        "<matplotlib.figure.Figure at 0x108382550>"
       ]
      }
     ],
     "prompt_number": 58
    },
    {
     "cell_type": "code",
     "collapsed": false,
     "input": [
      "monthly = df2.resample('M')"
     ],
     "language": "python",
     "metadata": {},
     "outputs": [],
     "prompt_number": 60
    },
    {
     "cell_type": "code",
     "collapsed": false,
     "input": [
      "monthly.to_csv('monthly_weather.csv')"
     ],
     "language": "python",
     "metadata": {},
     "outputs": [],
     "prompt_number": 61
    },
    {
     "cell_type": "code",
     "collapsed": false,
     "input": [
      "ls"
     ],
     "language": "python",
     "metadata": {},
     "outputs": [
      {
       "output_type": "stream",
       "stream": "stdout",
       "text": [
        "Plotting and IO Practice.ipynb  monthly_weather.csv\r\n",
        "Untitled0.ipynb                 oak_weather_2013.csv\r\n",
        "magenta.pdf\r\n"
       ]
      }
     ],
     "prompt_number": 62
    },
    {
     "cell_type": "code",
     "collapsed": false,
     "input": [
      "!head monthly_weather.csv"
     ],
     "language": "python",
     "metadata": {},
     "outputs": [
      {
       "output_type": "stream",
       "stream": "stdout",
       "text": [
        "PST,MaxTemperatureF,MeanTemperatureF,MinTemperatureF,MaxDewPointF,MeanDewPointF,MinDewpointF,MaxHumidity,MeanHumidity,MinHumidity,MaxSeaLevelPressureIn,MeanSeaLevelPressureIn,MinSeaLevelPressureIn,MaxVisibilityMiles,MeanVisibilityMiles,MinVisibilityMiles,MaxWindSpeedMPH,MeanWindSpeedMPH,MaxGustSpeedMPH,PrecipitationIn,CloudCover,WindDirDegrees\r\n",
        "2013-01-31,57.645161290322584,48.38709677419355,38.61290322580645,45.225806451612904,39.70967741935484,34.483870967741936,91.41935483870968,71.6774193548387,51.38709677419355,30.26935483870968,30.209999999999997,30.154838709677417,10.0,9.193548387096774,7.354838709677419,13.32258064516129,4.32258064516129,22.129032258064516,0.009354838709677418,2.806451612903226,213.1290322580645\r\n",
        "2013-02-28,61.392857142857146,51.82142857142857,41.642857142857146,50.714285714285715,44.892857142857146,38.607142857142854,98.46428571428571,75.5,52.107142857142854,30.229285714285712,30.175000000000004,30.116428571428575,10.0,9.535714285714286,7.285714285714286,15.571428571428571,6.071428571428571,22.535714285714285,0.018571428571428572,2.8214285714285716,263.39285714285717\r\n",
        "2013-03-31,65.96774193548387,56.903225806451616,47.225806451612904,53.61290322580645,49.29032258064516,44.38709677419355,97.58064516129032,75.6774193548387,53.354838709677416,30.159354838709667,30.103548387096772,30.046451612903223,10.0,9.451612903225806,7.516129032258065,19.322580645161292,7.290322580645161,24.2,0.01580645161290323,4.516129032258065,275.19354838709677\r\n",
        "2013-04-30,71.26666666666667,61.766666666666666,51.766666666666666,55.56666666666667,50.333333333333336,43.666666666666664,94.76666666666667,70.16666666666667,44.93333333333333,30.109333333333332,30.049333333333337,29.987666666666666,10.0,9.766666666666667,7.966666666666667,21.8,8.966666666666667,25.833333333333332,0.044333333333333336,2.8666666666666667,280.4\r\n",
        "2013-05-31,71.12903225806451,62.58064516129032,53.58064516129032,56.61290322580645,52.41935483870968,46.935483870967744,95.64516129032258,73.87096774193549,51.774193548387096,30.080967741935478,30.025806451612905,29.972258064516136,10.0,9.96774193548387,8.774193548387096,20.806451612903224,9.96774193548387,25.451612903225808,0.0006451612903225806,3.3870967741935485,267.61290322580646\r\n",
        "2013-06-30,72.66666666666667,64.0,54.96666666666667,59.8,56.766666666666666,53.56666666666667,99.63333333333334,79.36666666666666,58.46666666666667,29.987666666666666,29.941333333333333,29.892000000000003,10.0,9.933333333333334,8.6,20.266666666666666,9.3,25.75862068965517,0.005666666666666666,3.066666666666667,276.96666666666664\r\n",
        "2013-07-31,71.64516129032258,64.51612903225806,56.903225806451616,59.935483870967744,58.03225806451613,55.12903225806452,99.54838709677419,81.12903225806451,62.064516129032256,29.976451612903222,29.93387096774195,29.886451612903226,10.0,9.709677419354838,8.516129032258064,19.967741935483872,9.741935483870968,29.161290322580644,0.0,4.548387096774194,294.19354838709677\r\n",
        "2013-08-31,71.87096774193549,64.87096774193549,57.25806451612903,62.54838709677419,59.61290322580645,56.645161290322584,100.0,83.25806451612904,66.16129032258064,30.003548387096775,29.966451612903224,29.924516129032252,10.0,9.838709677419354,8.935483870967742,19.483870967741936,8.96774193548387,26.548387096774192,0.0,4.806451612903226,277.0967741935484\r\n",
        "2013-09-30,74.83333333333333,66.26666666666667,57.13333333333333,62.13333333333333,58.266666666666666,53.7,96.23333333333333,76.7,56.6,29.964666666666673,29.919333333333334,29.871666666666666,10.0,9.933333333333334,9.6,19.9,9.3,26.3,0.02033333333333333,3.066666666666667,269.5\r\n"
       ]
      }
     ],
     "prompt_number": 63
    },
    {
     "cell_type": "code",
     "collapsed": false,
     "input": [],
     "language": "python",
     "metadata": {},
     "outputs": []
    }
   ],
   "metadata": {}
  }
 ]
}